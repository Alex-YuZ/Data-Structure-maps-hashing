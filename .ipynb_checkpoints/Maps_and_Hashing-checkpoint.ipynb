{
 "cells": [
  {
   "cell_type": "markdown",
   "metadata": {},
   "source": [
    "By using hash structure, you can search any element in **O(1)** time, i.e. **constant time** complexity"
   ]
  },
  {
   "cell_type": "markdown",
   "metadata": {},
   "source": [
    "## Exercise 1: City - Country Pair in Formatted Print-out"
   ]
  },
  {
   "cell_type": "markdown",
   "metadata": {},
   "source": [
    "Time to play with Python dictionaries! You're going to work on a dictionary that\n",
    "stores cities by country and continent. The following one is done for you - the city of Mountain View is in the USA, which is in North America.<br><br>\n",
    "`locations = {'North America': {'USA': ['Mountain View']}}`<br><br>\n",
    "Notice that:\n",
    "- `locations`  is a dictionary of dictionaries\n",
    "- `North America` (Continent) is a dictionary\n",
    "- `USA` (Country) is a **key**\n",
    "- `['Mountain View']` (City) is a `list` acting as a **value**. A new city within USA country can be \"appended\" to the given list. \n",
    "\n",
    "\n",
    "### Task 1\n",
    "You need to add the cities listed below by modifying the given structure. Cities to add:\n",
    "```\n",
    "Bangalore (India, Asia)\n",
    "New Delhi (India, Asia)\n",
    "Atlanta (USA, North America)\n",
    "Cairo (Egypt, Africa)\n",
    "Shanghai (China, Asia)\n",
    "```\n",
    "Be careful, while adding a city in an existing country. Consider adding it to the existing `list` of cities as:\n",
    "```\n",
    "locations['Asia']['India'].append('New Delhi')\n",
    "```\n",
    "\n",
    "### Task 2\n",
    "Print the following (using \"print\") by looking them up in the structure.\n",
    "1. A list of all cities in the USA in alphabetic order.\n",
    "2. All cities in Asia, in alphabetic order, next to the name of the country. In your output, label each answer with a number so it looks like this:\n",
    "```\n",
    "1\n",
    "American City\n",
    "American City\n",
    "2\n",
    "Asian City - Country\n",
    "Asian City - Country\n",
    "```"
   ]
  },
  {
   "cell_type": "code",
   "execution_count": 1,
   "metadata": {},
   "outputs": [
    {
     "data": {
      "text/plain": [
       "{'North America': {'USA': ['Mountain View', 'Atlanta']},\n",
       " 'Asia': {'India': ['Bangalore', 'New Delhi'], 'China': ['Shanghai']},\n",
       " 'Africa': {'Egypt': ['Cairo']}}"
      ]
     },
     "execution_count": 1,
     "metadata": {},
     "output_type": "execute_result"
    }
   ],
   "source": [
    "# Add required elements into the dictionary\n",
    "\n",
    "locations = {'North America': {'USA': ['Mountain View']}}\n",
    "locations['Asia'] = {\"India\": ['Bangalore']}\n",
    "locations['Asia'][\"India\"].append('New Delhi')\n",
    "locations['Asia'][\"China\"] = ['Shanghai']\n",
    "locations['North America'][\"USA\"].append('Atlanta')\n",
    "locations['Africa'] = {'Egypt': [\"Cairo\"]}\n",
    "locations"
   ]
  },
  {
   "cell_type": "code",
   "execution_count": 2,
   "metadata": {},
   "outputs": [
    {
     "name": "stdout",
     "output_type": "stream",
     "text": [
      "1\n",
      "Atlanta\n",
      "Mountain View\n",
      "2\n",
      "Bangalore - India\n",
      "New Delhi - India\n",
      "Shanghai - China\n"
     ]
    }
   ],
   "source": [
    "# Print a list of all cities in the USA in alphabetic order.\n",
    "print('1')\n",
    "for city in sorted(locations['North America']['USA']):\n",
    "    print(city)\n",
    "    \n",
    "\n",
    "# Print all cities in Asia, in alphabetic order, next to the name of the country\n",
    "print(2)\n",
    "city_country_pair = []\n",
    "for country, cities in locations['Asia'].items():\n",
    "    for city in cities:\n",
    "        city_country_pair.append((city, country))\n",
    "\n",
    "ordered_pair = sorted(city_country_pair, key=lambda x: x[0])\n",
    "for city, country in ordered_pair:\n",
    "    print('{} - {}'.format(city, country))"
   ]
  },
  {
   "cell_type": "code",
   "execution_count": 27,
   "metadata": {},
   "outputs": [
    {
     "data": {
      "text/plain": [
       "[1, 9, 6, 0, 0]"
      ]
     },
     "execution_count": 27,
     "metadata": {},
     "output_type": "execute_result"
    }
   ],
   "source": [
    "def get_digit(num):\n",
    "    if num // 10 == 0:\n",
    "        return [num]\n",
    "    modulo = num % 10\n",
    "    return get_digit(num // 10) + [modulo]\n",
    "\n",
    "get_digit(19600)"
   ]
  },
  {
   "cell_type": "code",
   "execution_count": 30,
   "metadata": {},
   "outputs": [
    {
     "data": {
      "text/plain": [
       "[1, 9, 6, 0, 0]"
      ]
     },
     "execution_count": 30,
     "metadata": {},
     "output_type": "execute_result"
    }
   ],
   "source": [
    "list(map(int, list(str(19600))))"
   ]
  },
  {
   "cell_type": "code",
   "execution_count": 52,
   "metadata": {},
   "outputs": [
    {
     "data": {
      "text/plain": [
       "[10000, 9000, 800, 30, 2]"
      ]
     },
     "execution_count": 52,
     "metadata": {},
     "output_type": "execute_result"
    }
   ],
   "source": [
    "def get_digit(num):\n",
    "    if num // 10 == 0:\n",
    "        return [num]\n",
    "    modulo = num % 10\n",
    "    return get_digit(num // 10) + [modulo]\n",
    "\n",
    "def parse_num(num):\n",
    "    arr = get_digit(num)\n",
    "    output = []\n",
    "    for n, digit in enumerate(arr[::-1]):\n",
    "        output.append(digit*10**n)\n",
    "    return output[::-1]\n",
    "    \n",
    "parse_num(19832)"
   ]
  },
  {
   "cell_type": "code",
   "execution_count": 59,
   "metadata": {},
   "outputs": [
    {
     "name": "stdout",
     "output_type": "stream",
     "text": [
      "[100, 30, 2]\n",
      "[90, 6]\n",
      "[1]\n",
      "[900, 90, 9]\n",
      "[0]\n"
     ]
    }
   ],
   "source": [
    "for item in [132, 96, 1, 999, 0]:\n",
    "    print(parse_num(item))"
   ]
  },
  {
   "cell_type": "code",
   "execution_count": null,
   "metadata": {},
   "outputs": [],
   "source": []
  }
 ],
 "metadata": {
  "kernelspec": {
   "display_name": "Python 3",
   "language": "python",
   "name": "python3"
  },
  "language_info": {
   "codemirror_mode": {
    "name": "ipython",
    "version": 3
   },
   "file_extension": ".py",
   "mimetype": "text/x-python",
   "name": "python",
   "nbconvert_exporter": "python",
   "pygments_lexer": "ipython3",
   "version": "3.7.9"
  }
 },
 "nbformat": 4,
 "nbformat_minor": 4
}
